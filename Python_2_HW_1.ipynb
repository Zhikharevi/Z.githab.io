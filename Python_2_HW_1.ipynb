{
  "nbformat": 4,
  "nbformat_minor": 0,
  "metadata": {
    "colab": {
      "provenance": [],
      "include_colab_link": true
    },
    "kernelspec": {
      "name": "python3",
      "display_name": "Python 3"
    },
    "language_info": {
      "name": "python"
    }
  },
  "cells": [
    {
      "cell_type": "markdown",
      "metadata": {
        "id": "view-in-github",
        "colab_type": "text"
      },
      "source": [
        "<a href=\"https://colab.research.google.com/github/Zhikharevi/Z.githab.io/blob/master/Python_2_HW_1.ipynb\" target=\"_parent\"><img src=\"https://colab.research.google.com/assets/colab-badge.svg\" alt=\"Open In Colab\"/></a>"
      ]
    },
    {
      "cell_type": "markdown",
      "source": [
        "# Продвинутый Python, ДЗ-1\n",
        "\n",
        "Правила игры:\n",
        "\n",
        "* В домашке 5 задач, разбалловка указана в названии задачи. Суммарно за дз можно получить 100 баллов, что равняется 10 баллам\n",
        "\n",
        "* В каждой задаче необходимо реализовать функцию, которая после будет проверяться через github classroom на тестах. Сами тесты лежит в гитхабе, можете локально проверить работу функций перед сдачей\n",
        "\n",
        "* Дедлайн - 7 дней после выдачи дз. Необходимо залить решеннный ноутбук в github и прислать ссылку в Anytask (без выполнения любого из пунктов работа проверяться не будет)\n",
        "\n",
        "* В данной домашке нужно использовать numpy и scipy"
      ],
      "metadata": {
        "id": "4yd8s-mVJ6nW"
      }
    },
    {
      "cell_type": "code",
      "execution_count": null,
      "metadata": {
        "id": "mUttu6ZDwdz1"
      },
      "outputs": [],
      "source": [
        "import numpy as np\n",
        "import matplotlib.pyplot as plt\n",
        "import random\n",
        "import warnings\n",
        "import time\n",
        "from IPython.display import clear_output\n",
        "warnings.simplefilter(action='ignore', category=FutureWarning)\n",
        "warnings.filterwarnings(\"ignore\", category=np.VisibleDeprecationWarning)\n",
        "warnings.filterwarnings(\"ignore\", category=DeprecationWarning)\n",
        "warnings.filterwarnings(\"ignore\", category=UserWarning)\n",
        "\n",
        "SEED = 21\n",
        "random.seed(SEED)\n",
        "np.random.seed(SEED)"
      ]
    },
    {
      "cell_type": "code",
      "source": [
        "# https://stackoverflow.com/a/60658965/7286121\n",
        "\n",
        "from IPython.core.magic import register_cell_magic\n",
        "\n",
        "@register_cell_magic\n",
        "def write_and_run(line, cell):\n",
        "    argz = line.split()\n",
        "    file = argz[-1]\n",
        "    mode = 'w'\n",
        "    if len(argz) == 2 and argz[0] == '-a':\n",
        "        mode = 'a'\n",
        "    with open(file, mode) as f:\n",
        "        f.write(cell)\n",
        "    get_ipython().run_cell(cell)"
      ],
      "metadata": {
        "id": "kIFC0qWgL68S"
      },
      "execution_count": null,
      "outputs": []
    },
    {
      "cell_type": "markdown",
      "source": [
        "# Задание №0 (10 баллов)\n",
        "\n",
        "Реализуйте с помощью ```np.einsum``` следующие операции для векторов:\n",
        "\n",
        "1. ```np.sum(A)```\n",
        "2. ```A * B```\n",
        "3. ```np.inner(A, B)```\n",
        "4. ```np.outer(A, B)```\n"
      ],
      "metadata": {
        "id": "C1GY5aiU0Lyx"
      }
    },
    {
      "cell_type": "code",
      "source": [
        "%%write_and_run einsum_task.py\n",
        "\n",
        "\n",
        "# важно! все зависимости, которые используете (если добавляее новые) в этом классе надо явно продублировать в эту ячейку\n",
        "import numpy as np\n",
        "import random\n",
        "\n",
        "SEED = 21\n",
        "random.seed(SEED)\n",
        "np.random.seed(SEED)\n",
        "\n",
        "import pytest\n",
        "import numpy as np\n",
        "import random\n",
        "\n",
        "def test_einsum():\n",
        "  from einsum_task import task_00, task_01, task_02, task_03\n",
        "  SEED = 21\n",
        "  random.seed(SEED)\n",
        "  np.random.seed(SEED)\n",
        "  A = np.random.uniform(0, 1, 27)\n",
        "  B = np.random.uniform(0, 1, 27)\n",
        "  assert task_00(A) == 13.11339235591917\n",
        "  assert task_01(A, B)[-5] == 0.24026149540094477\n",
        "  assert task_02(A, B) == 8.195894577699882\n",
        "  assert task_03(A, B)[-7][-2] == 0.12503313510400518\n",
        "\n",
        "def task_00(A):\n",
        "    sumA = np.einsum('i->', A)\n",
        "    return sumA\n",
        "\n",
        "def task_01(A, B):\n",
        "    res = np.einsum('i,i->i', A, B)\n",
        "    return res\n",
        "\n",
        "def task_02(A, B):\n",
        "    res = np.einsum('i,i->', A, B)\n",
        "    return res\n",
        "\n",
        "def task_03(A, B):\n",
        "    res = np.einsum('i,j->ij', A, B)\n",
        "    return res\n",
        "test_einsum()"
      ],
      "metadata": {
        "id": "66zrgUzy0Pe-"
      },
      "execution_count": null,
      "outputs": []
    },
    {
      "cell_type": "markdown",
      "source": [
        "# Задание №1 (10 баллов)\n",
        "\n",
        "Фильтр Гаусса - это мощное средство при обработке изображений, которое позволяет избавиться от лишнего шума в картинке (а также дает возможность размыть картинку)\n",
        "\n",
        "Для наглядности как работает фильтр:\n",
        "\n",
        "![](https://upload.wikimedia.org/wikipedia/commons/thumb/6/62/Cappadocia_Gaussian_Blur.svg/800px-Cappadocia_Gaussian_Blur.svg.png)"
      ],
      "metadata": {
        "id": "Gu9327wBzMfp"
      }
    },
    {
      "cell_type": "markdown",
      "source": [
        "Вам нужно реализовать с помощью numpy двухмерный фильтр Гаусса. Как он вычисляется:\n",
        "\n",
        "$$G = e^{- \\frac{(D - μ)^{2}}{2 \\sigma^{2}} }$$\n",
        "\n",
        "где\n",
        "\n",
        "$$D = \\sqrt{X^2 + Y^2} $$\n",
        "\n",
        "а $\\mu$ и $\\sigma$ - это константы (среднее и стандартное отклонение)\n",
        "\n",
        "Посчитайте фильтр Гаусса на координатах от -1 до 1 (10 точек по каждой оси, подсказка: используйте np.meshgrid)"
      ],
      "metadata": {
        "id": "SX5kxUfUzZ1e"
      }
    },
    {
      "cell_type": "code",
      "source": [
        "%%write_and_run gauss_filter.py\n",
        "\n",
        "# важно! все зависимости, которые используете (если добавляее новые) в этом классе надо явно продублировать в эту ячейку\n",
        "import numpy as np\n",
        "\n",
        "import pytest\n",
        "import numpy as np\n",
        "\n",
        "\n",
        "def test_gauss():\n",
        "    from gauss_filter import gauss_filter\n",
        "    assert gauss_filter()[2, 3] == 0.8106843242768653\n",
        "    assert gauss_filter(sigma=2)[-1, -1] == 0.7788007830714049\n",
        "    assert gauss_filter(mu=2)[6, 7] == 0.4008734628486982\n",
        "    assert gauss_filter(mu=3, sigma=5)[5, 2] == 0.8883114848764877\n",
        "\n",
        "def gauss_filter(sigma = 1.0, mu = 0.0):\n",
        "    x = np.linspace(-1, 1, 10)\n",
        "    y = np.linspace(-1, 1, 10)\n",
        "    X, Y = np.meshgrid(x, y)\n",
        "    D = np.sqrt(X**2 + Y**2)\n",
        "    G = np.exp(-((D - mu) ** 2) / (2 * sigma ** 2))\n",
        "    return G\n",
        "\n",
        "test_gauss();"
      ],
      "metadata": {
        "id": "gL1zBdFIzVk3"
      },
      "execution_count": null,
      "outputs": []
    },
    {
      "cell_type": "markdown",
      "source": [
        "# Задание №2 (10 баллов)\n",
        "\n",
        "Требуется найти k наибольших элементов в массиве с помощью numpy"
      ],
      "metadata": {
        "id": "wSlzSbYbrt8P"
      }
    },
    {
      "cell_type": "code",
      "source": [
        "%%write_and_run greatest_task.py\n",
        "\n",
        "# важно! все зависимости, которые используете (если добавляее новые) в этом классе надо явно продублировать в эту ячейку\n",
        "import numpy as np\n",
        "import random\n",
        "\n",
        "\n",
        "SEED = 21\n",
        "random.seed(SEED)\n",
        "np.random.seed(SEED)\n",
        "\n",
        "def find_largest_element(array, n=7):\n",
        "    return np.sort(array)[-n::][::-1]\n",
        "\n",
        "\n",
        "import pytest\n",
        "import numpy as np\n",
        "import random\n",
        "\n",
        "def test_greatest():\n",
        "  from greatest_task import find_largest_element\n",
        "  SEED = 21\n",
        "  random.seed(SEED)\n",
        "  np.random.seed(SEED)\n",
        "  random_array = np.arange(0, 1000000, np.random.randint(5, 17))\n",
        "  np.random.shuffle(random_array)\n",
        "  assert find_largest_element(random_array).all() == np.array([999908, 999922, 999936, 999950, 999964, 999978, 999992]).all()\n",
        "  assert find_largest_element(random_array, n=9).all() == np.array([999866, 999880, 999894, 999908, 999922, 999936, 999950, 999964, 999978, 999992]).all()\n",
        "  assert find_largest_element(random_array, n=3).all() == np.array([999964, 999978, 999992]).all()\n",
        "\n",
        "test_greatest()"
      ],
      "metadata": {
        "id": "3vyHjf6irxNU"
      },
      "execution_count": null,
      "outputs": []
    },
    {
      "cell_type": "markdown",
      "source": [
        "# Задание №3 (20 баллов)\n",
        "\n",
        "**Game of life**\n",
        "\n",
        "Место действия игры — размеченная на клетки плоскость, которая может быть безграничной, ограниченной или замкнутой. Каждая клетка на этой поверхности имеет восемь соседей, окружающих её, и может находиться в двух состояниях: быть «живой» (заполненной) или «мёртвой» (пустой). Распределение живых клеток в начале игры называется первым поколением. Каждое следующее поколение рассчитывается на основе предыдущего по таким правилам:\n",
        "* в пустой (мёртвой) клетке, с которой соседствуют три живые клетки, зарождается жизнь;\n",
        "* если у живой клетки есть две или три живые соседки, то эта клетка продолжает жить; в противном случае (если живых соседей меньше двух или больше трёх) клетка умирает («от одиночества» или «от перенаселённости»).\n",
        "\n",
        "\n",
        "Игра прекращается, если на поле не останется ни одной «живой» клетки; конфигурация на очередном шаге в точности (без сдвигов и поворотов) повторит себя же на одном из более ранних шагов (складывается периодическая конфигурация) при очередном шаге ни одна из клеток не меняет своего состояния (частный случай предыдущего правила, складывается стабильная конфигурация)\n",
        "\n",
        "Ваша задача реализовать игру с помощью numpy"
      ],
      "metadata": {
        "id": "fM1HKfd0tnAM"
      }
    },
    {
      "cell_type": "code",
      "source": [
        "%%write_and_run game_of_life.py\n",
        "\n",
        "# важно! все зависимости, которые используете (если добавляее новые) в этом классе надо явно продублировать в эту ячейку\n",
        "import numpy as np\n",
        "import random\n",
        "\n",
        "SEED=21\n",
        "random.seed(SEED)\n",
        "np.random.seed(SEED)\n",
        "\n",
        "import numpy as np\n",
        "\n",
        "\n",
        "def game_of_life_next_step(array):\n",
        "    new_board = array.copy()\n",
        "    neighbors_sum = (\n",
        "        np.roll(array, 1, axis=0) + np.roll(array, -1, axis=0) +\n",
        "        np.roll(array, 1, axis=1) + np.roll(array, -1, axis=1) +\n",
        "        np.roll(np.roll(array, 1, axis=0), 1, axis=1) + np.roll(np.roll(array, 1, axis=0), -1, axis=1) +\n",
        "        np.roll(np.roll(array, -1, axis=0), 1, axis=1) + np.roll(np.roll(array, -1, axis=0), -1, axis=1)\n",
        "    )\n",
        "\n",
        "    new_board[(array == 1) & ((neighbors_sum < 2) | (neighbors_sum > 3))] = 0\n",
        "    new_board[(array == 0) & (neighbors_sum == 3)] = 1\n",
        "\n",
        "    return new_board\n",
        "\n",
        "\n",
        "\n",
        "import pytest\n",
        "import numpy as np\n",
        "import random\n",
        "\n",
        "def test_game_of_life():\n",
        "  from game_of_life import game_of_life_next_step\n",
        "  SEED = 21\n",
        "  random.seed(SEED)\n",
        "  np.random.seed(SEED)\n",
        "  step_array = np.random.randint(0, 2, (25, 25))\n",
        "  for i in range(100):\n",
        "      step_array = game_of_life_next_step(step_array)\n",
        "  assert len(step_array[step_array == 1]) == 24\n",
        "  assert np.where(step_array.reshape(-1) != 0)[0][-7] == 539\n",
        "\n",
        "test_game_of_life()"
      ],
      "metadata": {
        "id": "lBO6xLBHt6g4"
      },
      "execution_count": null,
      "outputs": []
    },
    {
      "cell_type": "markdown",
      "source": [
        "## Задание №4 (50 баллов)\n",
        "\n",
        "Вспомним алгоритм дифференциальной эволюции, который проходили на семинаре:\n",
        "\n",
        "1. Инициализация популяции: Начните с создания случайной популяции, где каждый индивид (вектор) представляет собой набор параметров, которые нужно оптимизировать. Эти параметры могут быть представлены вещественными числами.\n",
        "\n",
        "2. Оператор мутации: Для каждого индивида в популяции создается мутантный индивид. Это делается путем комбинирования параметров из нескольких случайно выбранных индивидов с использованием оператора мутации. Обычно оператор мутации может выглядеть так:\n",
        "$mutant = a + mutcoeff * (b - c)$\n",
        "\n",
        "3. Оператор кроссовера (рекомбинации): Мутантный индивид объединяется с исходным индивидом с использованием оператора кроссовера (рекомбинации). Этот оператор помогает определить, какие параметры оставить от исходного индивида и какие параметры заменить мутантными значениями.\n",
        "\n",
        "4. Оценка потомка: Оцените качество потомка, полученного после кроссовера, с помощью целевой функции.\n",
        "\n",
        "5. Селекция. Здесь происходит выбор индивида для следующего поколения: Сравните качество потомка и исходного индивида. Если потомок оказывается лучше, чем исходный индивид, то он становится частью следующего поколения. В противном случае, оставляем исходного индивида.\n",
        "\n",
        "6. Повторение шагов 3-6: Повторяйте операции мутации, кроссовера, оценки и выбора индивидов для следующего поколения некоторое количество итераций или до достижения заданного критерия останова (например, максимальное число итераций или достижение заданной точности).\n",
        "\n",
        "**Ваша задача: **\n",
        "1. Реализовать инциализацию популяции с помощью различных распределений, таких как:\n",
        "\n",
        "    a. [LatinHypercube](https://docs.scipy.org/doc/scipy/reference/generated/scipy.stats.qmc.LatinHypercube.html)\n",
        "\n",
        "    b. [Halton](https://docs.scipy.org/doc/scipy/reference/generated/scipy.stats.qmc.Halton.html)\n",
        "\n",
        "    c. [Sobol](https://docs.scipy.org/doc/scipy/reference/generated/scipy.stats.qmc.Sobol.html)\n",
        "\n",
        "2. Реализовать различные операторы мутации:\n",
        "\n",
        "    a. *Rand2* - выбор 5 случайных элементов $mutant = a + mutcoeff * (b - c) + mutcoeff * (d - e)$\n",
        "\n",
        "    b. *Best1* - использование лучшего элемента в мутации $mutant = best + mutcoeff * (b - c) + mutcoeff * (d - e)$\n",
        "\n",
        "    c. *Rand-to-p-best* - использование одного из $p$ лучших элемента в мутации $mutant$ = *random better element* $+ mutcoeff * (b - c)$\n",
        "3. Реализовать различные виды селекции\n",
        "\n",
        "    Сейчас селекция происходит по потомку и исходному индвиду. В данном задании требуется реализовать сравнение не по исходному индвидиду, а по:\n",
        "    \n",
        "    a. По худшему индивиду в популяции индвидов (предков)\n",
        "\n",
        "    b. Случайно выбирать индивид из худших индвидов по отношению к исходному. Если таковых нет, то выбирать исходный.\n",
        "\n",
        "    c. Выбирать случайный индвид не включая лучший\n",
        "\n",
        "\n",
        "За реализацию только пункта 1 - 10 баллов, за реализацию только пункта 2 - 10 баллов, за реализацию только пункта 3 - 10 баллов, за реализацию всех пунктов - 20 баллов (баллы суммируются)"
      ],
      "metadata": {
        "id": "fDW0vR3jH6uj"
      }
    },
    {
      "cell_type": "code",
      "source": [
        "%%write_and_run diff_evolution.py\n",
        "\n",
        "# важно! все зависимости, которые используете (если добавляее новые) в этом классе надо явно продублировать в эту ячейку\n",
        "import numpy as np\n",
        "import random\n",
        "from scipy.stats import qmc\n",
        "import math\n",
        "\n",
        "\n",
        "def differential_evolution(fobj, bounds, mutation_coefficient=0.5,\n",
        "                           crossover_coefficient=0.5, population_size=50, iterations=50,\n",
        "                           init_setting='random', mutation_setting='rand1',\n",
        "                           selection_setting='current', p_min=0.1, p_max=0.2):\n",
        "    # Инициалиация популяции и получение первичных результатов\n",
        "    SEED = 21\n",
        "    random.seed(SEED)\n",
        "    np.random.seed(SEED)\n",
        "    dimensions = len(bounds)\n",
        "    # Случайная имплементация\n",
        "    if init_setting == 'LatinHypercube':\n",
        "        pass\n",
        "        # your code\n",
        "        assert population.__class__ == qmc.LatinHypercube\n",
        "    elif init_setting == 'Halton':\n",
        "        pass\n",
        "        # your code\n",
        "        assert population.__class__ == qmc.Halton\n",
        "    elif init_setting == 'Sobol':\n",
        "        pass\n",
        "        # your code\n",
        "        assert population.__class__ == qmc.Sobol\n",
        "    else:\n",
        "        population = np.random.rand(population_size, dimensions)\n",
        "    min_bound, max_bound = bounds.T\n",
        "    diff = np.fabs(min_bound - max_bound)\n",
        "    population_denorm = min_bound + population * diff\n",
        "    fitness = np.asarray([fobj(ind) for ind in population_denorm])\n",
        "    # Найти лучший индекс\n",
        "    best_idx = np.argmin(fitness)\n",
        "    best = population_denorm[best_idx]\n",
        "    for iteration in range(iterations):\n",
        "        for population_index in range(population_size):\n",
        "            idxs = [idx for idx in range(population_size) if idx not in [best_idx, population_index]]\n",
        "            # Выбор трех случайных элементов\n",
        "            # Оператор мутации\n",
        "            if mutation_setting == 'rand2':\n",
        "                pass\n",
        "                # your code\n",
        "                assert 'e' in locals()\n",
        "                assert 'd' in locals()\n",
        "            elif mutation_setting == 'best1':\n",
        "                pass\n",
        "                # your code\n",
        "                assert index_of_best1 not in idxs\n",
        "                assert index_of_best1 != population_index\n",
        "                assert index_of_best1 != best_idx\n",
        "            elif mutation_setting == 'rand_to_p_best1':\n",
        "                pass\n",
        "                # your code\n",
        "                assert 'a' not in locals()\n",
        "                assert index_of_rand_to_p_best1 not in idxs\n",
        "                assert index_of_rand_to_p_best1 != population_index\n",
        "                assert index_of_rand_to_p_best1 != best_idx\n",
        "            else:\n",
        "                a, b, c = population[np.random.choice(idxs, 3, replace = False)]\n",
        "                mutant = np.clip(a + mutation_coefficient * (b - c), 0, 1)\n",
        "            # Оператор кроссовера\n",
        "            cross_points = np.random.rand(dimensions) < crossover_coefficient\n",
        "            if not np.any(cross_points):\n",
        "                cross_points[np.random.randint(0, dimensions)] = True\n",
        "            # Рекомбинация (замена мутантными значениями)\n",
        "            trial = np.where(cross_points, mutant, population[population_index])\n",
        "            trial_denorm = min_bound + trial * diff\n",
        "            # Оценка потомка\n",
        "            result_of_evolution = fobj(trial_denorm)\n",
        "            # Селекция\n",
        "            if selection_setting == 'worst':\n",
        "                pass # your code\n",
        "            elif selection_setting == 'random_among_worst':\n",
        "                pass # your code\n",
        "            elif selection_setting == 'random_selection':\n",
        "                pass # your code\n",
        "            else:\n",
        "                selection_index = population_index\n",
        "            if result_of_evolution < fitness[selection_index]:\n",
        "                fitness[selection_index] = result_of_evolution\n",
        "                population[selection_index] = trial\n",
        "                if result_of_evolution < fitness[best_idx]:\n",
        "                    best_idx = selection_index\n",
        "                    best = trial_denorm\n",
        "        yield best, fitness[best_idx]"
      ],
      "metadata": {
        "id": "c9ten_nF1nOk"
      },
      "execution_count": null,
      "outputs": []
    }
  ]
}